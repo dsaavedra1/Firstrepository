{
 "cells": [
  {
   "cell_type": "markdown",
   "metadata": {},
   "source": [
    "# Exercise 1: Hello World"
   ]
  },
  {
   "cell_type": "code",
   "execution_count": 10,
   "metadata": {},
   "outputs": [
    {
     "name": "stdout",
     "output_type": "stream",
     "text": [
      "my name is  armando\n"
     ]
    }
   ],
   "source": [
    "name = \"armando\"\n",
    "print(\"my name is \",name)"
   ]
  },
  {
   "cell_type": "code",
   "execution_count": 2,
   "metadata": {},
   "outputs": [
    {
     "name": "stdout",
     "output_type": "stream",
     "text": [
      "what is your name: homer\n",
      "homer  has  5  characters\n"
     ]
    }
   ],
   "source": [
    "name1=input(\"what is your name: \")\n",
    "print(name1,\" has \", len(name1),\" characters\")"
   ]
  },
  {
   "cell_type": "markdown",
   "metadata": {},
   "source": [
    "# Exersie 9: Compound Interest"
   ]
  },
  {
   "cell_type": "code",
   "execution_count": 6,
   "metadata": {},
   "outputs": [
    {
     "name": "stdout",
     "output_type": "stream",
     "text": [
      "Type the amount to save: 1500000\n",
      "The amount to the first year is:  1560000\n",
      "The amount to the second year is:  1622400\n",
      "The amount to the third year is :  1687296\n"
     ]
    }
   ],
   "source": [
    "r=0.04\n",
    "p=int(input(\"Type the amount to save: \"))\n",
    "f1=p*(1+r)**1\n",
    "f2=p*(1+r)**2\n",
    "f3=p*(1+r)**3\n",
    "print(\"The amount to the first year is: \", int(f1))\n",
    "print(\"The amount to the second year is: \",  int(f2))\n",
    "print(\"The amount to the third year is : \",  int(f3))\n"
   ]
  },
  {
   "cell_type": "markdown",
   "metadata": {},
   "source": [
    "# Exercise 11: Fuel Efficiency\n"
   ]
  },
  {
   "cell_type": "code",
   "execution_count": 7,
   "metadata": {},
   "outputs": [
    {
     "name": "stdout",
     "output_type": "stream",
     "text": [
      "Type # of mpg : 60\n",
      "A car in canada consume 2532.981530343008  liters per 100 km\n"
     ]
    }
   ],
   "source": [
    "USA= float(input(\"Type # of mpg : \"))\n",
    "Canada=USA*1.6*(1/(3.79))*100\n",
    "print(\"A car in canada consume\", Canada, \" liters per 100 km\")"
   ]
  },
  {
   "cell_type": "markdown",
   "metadata": {},
   "source": [
    "# Exercise 12: Distance Betwen Two pts on Earth"
   ]
  },
  {
   "cell_type": "code",
   "execution_count": 7,
   "metadata": {},
   "outputs": [
    {
     "name": "stdout",
     "output_type": "stream",
     "text": [
      "Type first latitude: 4\n"
     ]
    },
    {
     "ename": "TypeError",
     "evalue": "must be real number, not str",
     "output_type": "error",
     "traceback": [
      "\u001b[1;31m---------------------------------------------------------------------------\u001b[0m",
      "\u001b[1;31mTypeError\u001b[0m                                 Traceback (most recent call last)",
      "\u001b[1;32m<ipython-input-7-a9582ea3215b>\u001b[0m in \u001b[0;36m<module>\u001b[1;34m()\u001b[0m\n\u001b[0;32m      1\u001b[0m \u001b[1;32mfrom\u001b[0m \u001b[0mmath\u001b[0m \u001b[1;32mimport\u001b[0m \u001b[1;33m*\u001b[0m\u001b[1;33m\u001b[0m\u001b[0m\n\u001b[0;32m      2\u001b[0m \u001b[1;33m\u001b[0m\u001b[0m\n\u001b[1;32m----> 3\u001b[1;33m \u001b[0mFirPtol\u001b[0m\u001b[1;33m=\u001b[0m\u001b[0mradians\u001b[0m\u001b[1;33m(\u001b[0m\u001b[0minput\u001b[0m\u001b[1;33m(\u001b[0m\u001b[1;34m\"Type first latitude: \"\u001b[0m\u001b[1;33m)\u001b[0m\u001b[1;33m)\u001b[0m\u001b[1;33m\u001b[0m\u001b[0m\n\u001b[0m\u001b[0;32m      4\u001b[0m \u001b[0mFirPtog\u001b[0m\u001b[1;33m=\u001b[0m\u001b[0mradians\u001b[0m\u001b[1;33m(\u001b[0m\u001b[0minput\u001b[0m\u001b[1;33m(\u001b[0m\u001b[1;34m\"Type first Longitud: \"\u001b[0m\u001b[1;33m)\u001b[0m\u001b[1;33m)\u001b[0m\u001b[1;33m\u001b[0m\u001b[0m\n\u001b[0;32m      5\u001b[0m \u001b[0mSecPtol\u001b[0m\u001b[1;33m=\u001b[0m\u001b[0mradians\u001b[0m\u001b[1;33m(\u001b[0m\u001b[0minput\u001b[0m\u001b[1;33m(\u001b[0m\u001b[1;34m\"Type second latitude: \"\u001b[0m\u001b[1;33m)\u001b[0m\u001b[1;33m)\u001b[0m\u001b[1;33m\u001b[0m\u001b[0m\n",
      "\u001b[1;31mTypeError\u001b[0m: must be real number, not str"
     ]
    }
   ],
   "source": [
    "from math import * \n",
    "\n",
    "FirPtol=radians(input(\"Type first latitude: \"))\n",
    "FirPtog=radians(input(\"Type first Longitud: \"))\n",
    "SecPtol=radians(input(\"Type second latitude: \"))\n",
    "SecPtog=radians(input(\"Type SecondLongitud: \"))\n",
    "\n",
    "Dist=6371.01*arcos(sin(FirPtol)*sin(SecPtol)+cos(FirPtol)*cos(SecPtol)*cos(FirPtog-SecPtog))\n",
    "print(\"The Distance between the two point on the heart is: \",Dist)\n",
    "\n"
   ]
  },
  {
   "cell_type": "code",
   "execution_count": null,
   "metadata": {
    "collapsed": true
   },
   "outputs": [],
   "source": []
  }
 ],
 "metadata": {
  "kernelspec": {
   "display_name": "Python 3",
   "language": "python",
   "name": "python3"
  },
  "language_info": {
   "codemirror_mode": {
    "name": "ipython",
    "version": 3
   },
   "file_extension": ".py",
   "mimetype": "text/x-python",
   "name": "python",
   "nbconvert_exporter": "python",
   "pygments_lexer": "ipython3",
   "version": "3.6.3"
  }
 },
 "nbformat": 4,
 "nbformat_minor": 2
}
